{
 "cells": [
  {
   "cell_type": "code",
   "execution_count": 1,
   "id": "d5a75225-2b8a-416a-a1f5-0c53d8e11d47",
   "metadata": {},
   "outputs": [
    {
     "name": "stdout",
     "output_type": "stream",
     "text": [
      "Requirement already satisfied: pretty-jupyter in /Users/nathan/Library/jupyterlab-desktop/jlab_server/lib/python3.12/site-packages (2.0.7)\n",
      "Requirement already satisfied: click in /Users/nathan/Library/jupyterlab-desktop/jlab_server/lib/python3.12/site-packages (from pretty-jupyter) (8.1.7)\n",
      "Requirement already satisfied: ipython>=7.1 in /Users/nathan/Library/jupyterlab-desktop/jlab_server/lib/python3.12/site-packages (from pretty-jupyter) (8.22.2)\n",
      "Requirement already satisfied: nbconvert<7.0,>=6.0 in /Users/nathan/Library/jupyterlab-desktop/jlab_server/lib/python3.12/site-packages (from pretty-jupyter) (6.5.4)\n",
      "Requirement already satisfied: jinja2>=3.0 in /Users/nathan/Library/jupyterlab-desktop/jlab_server/lib/python3.12/site-packages (from pretty-jupyter) (3.1.3)\n",
      "Requirement already satisfied: ipython-genutils>=0.1 in /Users/nathan/Library/jupyterlab-desktop/jlab_server/lib/python3.12/site-packages (from pretty-jupyter) (0.2.0)\n",
      "Requirement already satisfied: pyyaml>=5 in /Users/nathan/Library/jupyterlab-desktop/jlab_server/lib/python3.12/site-packages (from pretty-jupyter) (6.0.1)\n",
      "Requirement already satisfied: cerberus>=1.1 in /Users/nathan/Library/jupyterlab-desktop/jlab_server/lib/python3.12/site-packages (from pretty-jupyter) (1.3.5)\n",
      "Requirement already satisfied: decorator in /Users/nathan/Library/jupyterlab-desktop/jlab_server/lib/python3.12/site-packages (from ipython>=7.1->pretty-jupyter) (5.1.1)\n",
      "Requirement already satisfied: jedi>=0.16 in /Users/nathan/Library/jupyterlab-desktop/jlab_server/lib/python3.12/site-packages (from ipython>=7.1->pretty-jupyter) (0.19.1)\n",
      "Requirement already satisfied: matplotlib-inline in /Users/nathan/Library/jupyterlab-desktop/jlab_server/lib/python3.12/site-packages (from ipython>=7.1->pretty-jupyter) (0.1.6)\n",
      "Requirement already satisfied: prompt-toolkit<3.1.0,>=3.0.41 in /Users/nathan/Library/jupyterlab-desktop/jlab_server/lib/python3.12/site-packages (from ipython>=7.1->pretty-jupyter) (3.0.42)\n",
      "Requirement already satisfied: pygments>=2.4.0 in /Users/nathan/Library/jupyterlab-desktop/jlab_server/lib/python3.12/site-packages (from ipython>=7.1->pretty-jupyter) (2.17.2)\n",
      "Requirement already satisfied: stack-data in /Users/nathan/Library/jupyterlab-desktop/jlab_server/lib/python3.12/site-packages (from ipython>=7.1->pretty-jupyter) (0.6.2)\n",
      "Requirement already satisfied: traitlets>=5.13.0 in /Users/nathan/Library/jupyterlab-desktop/jlab_server/lib/python3.12/site-packages (from ipython>=7.1->pretty-jupyter) (5.14.1)\n",
      "Requirement already satisfied: pexpect>4.3 in /Users/nathan/Library/jupyterlab-desktop/jlab_server/lib/python3.12/site-packages (from ipython>=7.1->pretty-jupyter) (4.9.0)\n",
      "Requirement already satisfied: MarkupSafe>=2.0 in /Users/nathan/Library/jupyterlab-desktop/jlab_server/lib/python3.12/site-packages (from jinja2>=3.0->pretty-jupyter) (2.1.5)\n",
      "Requirement already satisfied: lxml in /Users/nathan/Library/jupyterlab-desktop/jlab_server/lib/python3.12/site-packages (from nbconvert<7.0,>=6.0->pretty-jupyter) (5.1.0)\n",
      "Requirement already satisfied: beautifulsoup4 in /Users/nathan/Library/jupyterlab-desktop/jlab_server/lib/python3.12/site-packages (from nbconvert<7.0,>=6.0->pretty-jupyter) (4.12.3)\n",
      "Requirement already satisfied: bleach in /Users/nathan/Library/jupyterlab-desktop/jlab_server/lib/python3.12/site-packages (from nbconvert<7.0,>=6.0->pretty-jupyter) (6.1.0)\n",
      "Requirement already satisfied: defusedxml in /Users/nathan/Library/jupyterlab-desktop/jlab_server/lib/python3.12/site-packages (from nbconvert<7.0,>=6.0->pretty-jupyter) (0.7.1)\n",
      "Requirement already satisfied: entrypoints>=0.2.2 in /Users/nathan/Library/jupyterlab-desktop/jlab_server/lib/python3.12/site-packages (from nbconvert<7.0,>=6.0->pretty-jupyter) (0.4)\n",
      "Requirement already satisfied: jupyter-core>=4.7 in /Users/nathan/Library/jupyterlab-desktop/jlab_server/lib/python3.12/site-packages (from nbconvert<7.0,>=6.0->pretty-jupyter) (5.7.1)\n",
      "Requirement already satisfied: jupyterlab-pygments in /Users/nathan/Library/jupyterlab-desktop/jlab_server/lib/python3.12/site-packages (from nbconvert<7.0,>=6.0->pretty-jupyter) (0.3.0)\n",
      "Requirement already satisfied: mistune<2,>=0.8.1 in /Users/nathan/Library/jupyterlab-desktop/jlab_server/lib/python3.12/site-packages (from nbconvert<7.0,>=6.0->pretty-jupyter) (0.8.4)\n",
      "Requirement already satisfied: nbclient>=0.5.0 in /Users/nathan/Library/jupyterlab-desktop/jlab_server/lib/python3.12/site-packages (from nbconvert<7.0,>=6.0->pretty-jupyter) (0.8.0)\n",
      "Requirement already satisfied: nbformat>=5.1 in /Users/nathan/Library/jupyterlab-desktop/jlab_server/lib/python3.12/site-packages (from nbconvert<7.0,>=6.0->pretty-jupyter) (5.9.2)\n",
      "Requirement already satisfied: packaging in /Users/nathan/Library/jupyterlab-desktop/jlab_server/lib/python3.12/site-packages (from nbconvert<7.0,>=6.0->pretty-jupyter) (23.2)\n",
      "Requirement already satisfied: pandocfilters>=1.4.1 in /Users/nathan/Library/jupyterlab-desktop/jlab_server/lib/python3.12/site-packages (from nbconvert<7.0,>=6.0->pretty-jupyter) (1.5.0)\n",
      "Requirement already satisfied: tinycss2 in /Users/nathan/Library/jupyterlab-desktop/jlab_server/lib/python3.12/site-packages (from nbconvert<7.0,>=6.0->pretty-jupyter) (1.2.1)\n",
      "Requirement already satisfied: parso<0.9.0,>=0.8.3 in /Users/nathan/Library/jupyterlab-desktop/jlab_server/lib/python3.12/site-packages (from jedi>=0.16->ipython>=7.1->pretty-jupyter) (0.8.3)\n",
      "Requirement already satisfied: platformdirs>=2.5 in /Users/nathan/Library/jupyterlab-desktop/jlab_server/lib/python3.12/site-packages (from jupyter-core>=4.7->nbconvert<7.0,>=6.0->pretty-jupyter) (4.2.0)\n",
      "Requirement already satisfied: jupyter-client>=6.1.12 in /Users/nathan/Library/jupyterlab-desktop/jlab_server/lib/python3.12/site-packages (from nbclient>=0.5.0->nbconvert<7.0,>=6.0->pretty-jupyter) (8.6.0)\n",
      "Requirement already satisfied: fastjsonschema in /Users/nathan/Library/jupyterlab-desktop/jlab_server/lib/python3.12/site-packages (from nbformat>=5.1->nbconvert<7.0,>=6.0->pretty-jupyter) (2.19.1)\n",
      "Requirement already satisfied: jsonschema>=2.6 in /Users/nathan/Library/jupyterlab-desktop/jlab_server/lib/python3.12/site-packages (from nbformat>=5.1->nbconvert<7.0,>=6.0->pretty-jupyter) (4.21.1)\n",
      "Requirement already satisfied: ptyprocess>=0.5 in /Users/nathan/Library/jupyterlab-desktop/jlab_server/lib/python3.12/site-packages (from pexpect>4.3->ipython>=7.1->pretty-jupyter) (0.7.0)\n",
      "Requirement already satisfied: wcwidth in /Users/nathan/Library/jupyterlab-desktop/jlab_server/lib/python3.12/site-packages (from prompt-toolkit<3.1.0,>=3.0.41->ipython>=7.1->pretty-jupyter) (0.2.13)\n",
      "Requirement already satisfied: soupsieve>1.2 in /Users/nathan/Library/jupyterlab-desktop/jlab_server/lib/python3.12/site-packages (from beautifulsoup4->nbconvert<7.0,>=6.0->pretty-jupyter) (2.5)\n",
      "Requirement already satisfied: six>=1.9.0 in /Users/nathan/Library/jupyterlab-desktop/jlab_server/lib/python3.12/site-packages (from bleach->nbconvert<7.0,>=6.0->pretty-jupyter) (1.16.0)\n",
      "Requirement already satisfied: webencodings in /Users/nathan/Library/jupyterlab-desktop/jlab_server/lib/python3.12/site-packages (from bleach->nbconvert<7.0,>=6.0->pretty-jupyter) (0.5.1)\n",
      "Requirement already satisfied: executing>=1.2.0 in /Users/nathan/Library/jupyterlab-desktop/jlab_server/lib/python3.12/site-packages (from stack-data->ipython>=7.1->pretty-jupyter) (2.0.1)\n",
      "Requirement already satisfied: asttokens>=2.1.0 in /Users/nathan/Library/jupyterlab-desktop/jlab_server/lib/python3.12/site-packages (from stack-data->ipython>=7.1->pretty-jupyter) (2.4.1)\n",
      "Requirement already satisfied: pure-eval in /Users/nathan/Library/jupyterlab-desktop/jlab_server/lib/python3.12/site-packages (from stack-data->ipython>=7.1->pretty-jupyter) (0.2.2)\n",
      "Requirement already satisfied: attrs>=22.2.0 in /Users/nathan/Library/jupyterlab-desktop/jlab_server/lib/python3.12/site-packages (from jsonschema>=2.6->nbformat>=5.1->nbconvert<7.0,>=6.0->pretty-jupyter) (23.2.0)\n",
      "Requirement already satisfied: jsonschema-specifications>=2023.03.6 in /Users/nathan/Library/jupyterlab-desktop/jlab_server/lib/python3.12/site-packages (from jsonschema>=2.6->nbformat>=5.1->nbconvert<7.0,>=6.0->pretty-jupyter) (2023.12.1)\n",
      "Requirement already satisfied: referencing>=0.28.4 in /Users/nathan/Library/jupyterlab-desktop/jlab_server/lib/python3.12/site-packages (from jsonschema>=2.6->nbformat>=5.1->nbconvert<7.0,>=6.0->pretty-jupyter) (0.33.0)\n",
      "Requirement already satisfied: rpds-py>=0.7.1 in /Users/nathan/Library/jupyterlab-desktop/jlab_server/lib/python3.12/site-packages (from jsonschema>=2.6->nbformat>=5.1->nbconvert<7.0,>=6.0->pretty-jupyter) (0.18.0)\n",
      "Requirement already satisfied: python-dateutil>=2.8.2 in /Users/nathan/Library/jupyterlab-desktop/jlab_server/lib/python3.12/site-packages (from jupyter-client>=6.1.12->nbclient>=0.5.0->nbconvert<7.0,>=6.0->pretty-jupyter) (2.9.0)\n",
      "Requirement already satisfied: pyzmq>=23.0 in /Users/nathan/Library/jupyterlab-desktop/jlab_server/lib/python3.12/site-packages (from jupyter-client>=6.1.12->nbclient>=0.5.0->nbconvert<7.0,>=6.0->pretty-jupyter) (25.1.2)\n",
      "Requirement already satisfied: tornado>=6.2 in /Users/nathan/Library/jupyterlab-desktop/jlab_server/lib/python3.12/site-packages (from jupyter-client>=6.1.12->nbclient>=0.5.0->nbconvert<7.0,>=6.0->pretty-jupyter) (6.4)\n",
      "Note: you may need to restart the kernel to use updated packages.\n"
     ]
    }
   ],
   "source": [
    "pip install pretty-jupyter"
   ]
  },
  {
   "cell_type": "code",
   "execution_count": 2,
   "id": "a4db88dd-0310-408a-b242-8c40d02afbf0",
   "metadata": {},
   "outputs": [],
   "source": [
    "import pandas as pd\n",
    "import numpy as np"
   ]
  },
  {
   "cell_type": "code",
   "execution_count": null,
   "id": "a0421731-821a-48c9-a40a-d5c736030717",
   "metadata": {},
   "outputs": [],
   "source": []
  }
 ],
 "metadata": {
  "kernelspec": {
   "display_name": "Python 3 (ipykernel)",
   "language": "python",
   "name": "python3"
  },
  "language_info": {
   "codemirror_mode": {
    "name": "ipython",
    "version": 3
   },
   "file_extension": ".py",
   "mimetype": "text/x-python",
   "name": "python",
   "nbconvert_exporter": "python",
   "pygments_lexer": "ipython3",
   "version": "3.12.2"
  }
 },
 "nbformat": 4,
 "nbformat_minor": 5
}
