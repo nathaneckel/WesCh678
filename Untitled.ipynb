{
 "cells": [
  {
   "cell_type": "code",
   "execution_count": 1,
   "id": "9bed2458-3e1e-4c1b-b120-6e3b5dd96151",
   "metadata": {},
   "outputs": [
    {
     "name": "stdout",
     "output_type": "stream",
     "text": [
      "Collecting pretty-jupyter\n",
      "  Downloading pretty_jupyter-2.0.7-py3-none-any.whl.metadata (45 kB)\n",
      "\u001b[2K     \u001b[90m━━━━━━━━━━━━━━━━━━━━━━━━━━━━━━━━━━━━━━━━\u001b[0m \u001b[32m45.3/45.3 kB\u001b[0m \u001b[31m3.0 MB/s\u001b[0m eta \u001b[36m0:00:00\u001b[0m\n",
      "\u001b[?25hCollecting click (from pretty-jupyter)\n",
      "  Downloading click-8.1.7-py3-none-any.whl.metadata (3.0 kB)\n",
      "Requirement already satisfied: ipython>=7.1 in /Users/nathan/Library/jupyterlab-desktop/jlab_server/lib/python3.12/site-packages (from pretty-jupyter) (8.22.2)\n",
      "Collecting nbconvert<7.0,>=6.0 (from pretty-jupyter)\n",
      "  Downloading nbconvert-6.5.4-py3-none-any.whl.metadata (6.0 kB)\n",
      "Requirement already satisfied: jinja2>=3.0 in /Users/nathan/Library/jupyterlab-desktop/jlab_server/lib/python3.12/site-packages (from pretty-jupyter) (3.1.3)\n",
      "Requirement already satisfied: ipython-genutils>=0.1 in /Users/nathan/Library/jupyterlab-desktop/jlab_server/lib/python3.12/site-packages (from pretty-jupyter) (0.2.0)\n",
      "Requirement already satisfied: pyyaml>=5 in /Users/nathan/Library/jupyterlab-desktop/jlab_server/lib/python3.12/site-packages (from pretty-jupyter) (6.0.1)\n",
      "Collecting cerberus>=1.1 (from pretty-jupyter)\n",
      "  Downloading Cerberus-1.3.5-py3-none-any.whl.metadata (6.0 kB)\n",
      "Requirement already satisfied: decorator in /Users/nathan/Library/jupyterlab-desktop/jlab_server/lib/python3.12/site-packages (from ipython>=7.1->pretty-jupyter) (5.1.1)\n",
      "Requirement already satisfied: jedi>=0.16 in /Users/nathan/Library/jupyterlab-desktop/jlab_server/lib/python3.12/site-packages (from ipython>=7.1->pretty-jupyter) (0.19.1)\n",
      "Requirement already satisfied: matplotlib-inline in /Users/nathan/Library/jupyterlab-desktop/jlab_server/lib/python3.12/site-packages (from ipython>=7.1->pretty-jupyter) (0.1.6)\n",
      "Requirement already satisfied: prompt-toolkit<3.1.0,>=3.0.41 in /Users/nathan/Library/jupyterlab-desktop/jlab_server/lib/python3.12/site-packages (from ipython>=7.1->pretty-jupyter) (3.0.42)\n",
      "Requirement already satisfied: pygments>=2.4.0 in /Users/nathan/Library/jupyterlab-desktop/jlab_server/lib/python3.12/site-packages (from ipython>=7.1->pretty-jupyter) (2.17.2)\n",
      "Requirement already satisfied: stack-data in /Users/nathan/Library/jupyterlab-desktop/jlab_server/lib/python3.12/site-packages (from ipython>=7.1->pretty-jupyter) (0.6.2)\n",
      "Requirement already satisfied: traitlets>=5.13.0 in /Users/nathan/Library/jupyterlab-desktop/jlab_server/lib/python3.12/site-packages (from ipython>=7.1->pretty-jupyter) (5.14.1)\n",
      "Requirement already satisfied: pexpect>4.3 in /Users/nathan/Library/jupyterlab-desktop/jlab_server/lib/python3.12/site-packages (from ipython>=7.1->pretty-jupyter) (4.9.0)\n",
      "Requirement already satisfied: MarkupSafe>=2.0 in /Users/nathan/Library/jupyterlab-desktop/jlab_server/lib/python3.12/site-packages (from jinja2>=3.0->pretty-jupyter) (2.1.5)\n",
      "Requirement already satisfied: lxml in /Users/nathan/Library/jupyterlab-desktop/jlab_server/lib/python3.12/site-packages (from nbconvert<7.0,>=6.0->pretty-jupyter) (5.1.0)\n",
      "Requirement already satisfied: beautifulsoup4 in /Users/nathan/Library/jupyterlab-desktop/jlab_server/lib/python3.12/site-packages (from nbconvert<7.0,>=6.0->pretty-jupyter) (4.12.3)\n",
      "Requirement already satisfied: bleach in /Users/nathan/Library/jupyterlab-desktop/jlab_server/lib/python3.12/site-packages (from nbconvert<7.0,>=6.0->pretty-jupyter) (6.1.0)\n",
      "Requirement already satisfied: defusedxml in /Users/nathan/Library/jupyterlab-desktop/jlab_server/lib/python3.12/site-packages (from nbconvert<7.0,>=6.0->pretty-jupyter) (0.7.1)\n",
      "Requirement already satisfied: entrypoints>=0.2.2 in /Users/nathan/Library/jupyterlab-desktop/jlab_server/lib/python3.12/site-packages (from nbconvert<7.0,>=6.0->pretty-jupyter) (0.4)\n",
      "Requirement already satisfied: jupyter-core>=4.7 in /Users/nathan/Library/jupyterlab-desktop/jlab_server/lib/python3.12/site-packages (from nbconvert<7.0,>=6.0->pretty-jupyter) (5.7.1)\n",
      "Requirement already satisfied: jupyterlab-pygments in /Users/nathan/Library/jupyterlab-desktop/jlab_server/lib/python3.12/site-packages (from nbconvert<7.0,>=6.0->pretty-jupyter) (0.3.0)\n",
      "Collecting mistune<2,>=0.8.1 (from nbconvert<7.0,>=6.0->pretty-jupyter)\n",
      "  Downloading mistune-0.8.4-py2.py3-none-any.whl.metadata (8.5 kB)\n",
      "Requirement already satisfied: nbclient>=0.5.0 in /Users/nathan/Library/jupyterlab-desktop/jlab_server/lib/python3.12/site-packages (from nbconvert<7.0,>=6.0->pretty-jupyter) (0.8.0)\n",
      "Requirement already satisfied: nbformat>=5.1 in /Users/nathan/Library/jupyterlab-desktop/jlab_server/lib/python3.12/site-packages (from nbconvert<7.0,>=6.0->pretty-jupyter) (5.9.2)\n",
      "Requirement already satisfied: packaging in /Users/nathan/Library/jupyterlab-desktop/jlab_server/lib/python3.12/site-packages (from nbconvert<7.0,>=6.0->pretty-jupyter) (23.2)\n",
      "Requirement already satisfied: pandocfilters>=1.4.1 in /Users/nathan/Library/jupyterlab-desktop/jlab_server/lib/python3.12/site-packages (from nbconvert<7.0,>=6.0->pretty-jupyter) (1.5.0)\n",
      "Requirement already satisfied: tinycss2 in /Users/nathan/Library/jupyterlab-desktop/jlab_server/lib/python3.12/site-packages (from nbconvert<7.0,>=6.0->pretty-jupyter) (1.2.1)\n",
      "Requirement already satisfied: parso<0.9.0,>=0.8.3 in /Users/nathan/Library/jupyterlab-desktop/jlab_server/lib/python3.12/site-packages (from jedi>=0.16->ipython>=7.1->pretty-jupyter) (0.8.3)\n",
      "Requirement already satisfied: platformdirs>=2.5 in /Users/nathan/Library/jupyterlab-desktop/jlab_server/lib/python3.12/site-packages (from jupyter-core>=4.7->nbconvert<7.0,>=6.0->pretty-jupyter) (4.2.0)\n",
      "Requirement already satisfied: jupyter-client>=6.1.12 in /Users/nathan/Library/jupyterlab-desktop/jlab_server/lib/python3.12/site-packages (from nbclient>=0.5.0->nbconvert<7.0,>=6.0->pretty-jupyter) (8.6.0)\n",
      "Requirement already satisfied: fastjsonschema in /Users/nathan/Library/jupyterlab-desktop/jlab_server/lib/python3.12/site-packages (from nbformat>=5.1->nbconvert<7.0,>=6.0->pretty-jupyter) (2.19.1)\n",
      "Requirement already satisfied: jsonschema>=2.6 in /Users/nathan/Library/jupyterlab-desktop/jlab_server/lib/python3.12/site-packages (from nbformat>=5.1->nbconvert<7.0,>=6.0->pretty-jupyter) (4.21.1)\n",
      "Requirement already satisfied: ptyprocess>=0.5 in /Users/nathan/Library/jupyterlab-desktop/jlab_server/lib/python3.12/site-packages (from pexpect>4.3->ipython>=7.1->pretty-jupyter) (0.7.0)\n",
      "Requirement already satisfied: wcwidth in /Users/nathan/Library/jupyterlab-desktop/jlab_server/lib/python3.12/site-packages (from prompt-toolkit<3.1.0,>=3.0.41->ipython>=7.1->pretty-jupyter) (0.2.13)\n",
      "Requirement already satisfied: soupsieve>1.2 in /Users/nathan/Library/jupyterlab-desktop/jlab_server/lib/python3.12/site-packages (from beautifulsoup4->nbconvert<7.0,>=6.0->pretty-jupyter) (2.5)\n",
      "Requirement already satisfied: six>=1.9.0 in /Users/nathan/Library/jupyterlab-desktop/jlab_server/lib/python3.12/site-packages (from bleach->nbconvert<7.0,>=6.0->pretty-jupyter) (1.16.0)\n",
      "Requirement already satisfied: webencodings in /Users/nathan/Library/jupyterlab-desktop/jlab_server/lib/python3.12/site-packages (from bleach->nbconvert<7.0,>=6.0->pretty-jupyter) (0.5.1)\n",
      "Requirement already satisfied: executing>=1.2.0 in /Users/nathan/Library/jupyterlab-desktop/jlab_server/lib/python3.12/site-packages (from stack-data->ipython>=7.1->pretty-jupyter) (2.0.1)\n",
      "Requirement already satisfied: asttokens>=2.1.0 in /Users/nathan/Library/jupyterlab-desktop/jlab_server/lib/python3.12/site-packages (from stack-data->ipython>=7.1->pretty-jupyter) (2.4.1)\n",
      "Requirement already satisfied: pure-eval in /Users/nathan/Library/jupyterlab-desktop/jlab_server/lib/python3.12/site-packages (from stack-data->ipython>=7.1->pretty-jupyter) (0.2.2)\n",
      "Requirement already satisfied: attrs>=22.2.0 in /Users/nathan/Library/jupyterlab-desktop/jlab_server/lib/python3.12/site-packages (from jsonschema>=2.6->nbformat>=5.1->nbconvert<7.0,>=6.0->pretty-jupyter) (23.2.0)\n",
      "Requirement already satisfied: jsonschema-specifications>=2023.03.6 in /Users/nathan/Library/jupyterlab-desktop/jlab_server/lib/python3.12/site-packages (from jsonschema>=2.6->nbformat>=5.1->nbconvert<7.0,>=6.0->pretty-jupyter) (2023.12.1)\n",
      "Requirement already satisfied: referencing>=0.28.4 in /Users/nathan/Library/jupyterlab-desktop/jlab_server/lib/python3.12/site-packages (from jsonschema>=2.6->nbformat>=5.1->nbconvert<7.0,>=6.0->pretty-jupyter) (0.33.0)\n",
      "Requirement already satisfied: rpds-py>=0.7.1 in /Users/nathan/Library/jupyterlab-desktop/jlab_server/lib/python3.12/site-packages (from jsonschema>=2.6->nbformat>=5.1->nbconvert<7.0,>=6.0->pretty-jupyter) (0.18.0)\n",
      "Requirement already satisfied: python-dateutil>=2.8.2 in /Users/nathan/Library/jupyterlab-desktop/jlab_server/lib/python3.12/site-packages (from jupyter-client>=6.1.12->nbclient>=0.5.0->nbconvert<7.0,>=6.0->pretty-jupyter) (2.9.0)\n",
      "Requirement already satisfied: pyzmq>=23.0 in /Users/nathan/Library/jupyterlab-desktop/jlab_server/lib/python3.12/site-packages (from jupyter-client>=6.1.12->nbclient>=0.5.0->nbconvert<7.0,>=6.0->pretty-jupyter) (25.1.2)\n",
      "Requirement already satisfied: tornado>=6.2 in /Users/nathan/Library/jupyterlab-desktop/jlab_server/lib/python3.12/site-packages (from jupyter-client>=6.1.12->nbclient>=0.5.0->nbconvert<7.0,>=6.0->pretty-jupyter) (6.4)\n",
      "Downloading pretty_jupyter-2.0.7-py3-none-any.whl (3.2 MB)\n",
      "\u001b[2K   \u001b[90m━━━━━━━━━━━━━━━━━━━━━━━━━━━━━━━━━━━━━━━━\u001b[0m \u001b[32m3.2/3.2 MB\u001b[0m \u001b[31m13.2 MB/s\u001b[0m eta \u001b[36m0:00:00\u001b[0ma \u001b[36m0:00:01\u001b[0m\n",
      "\u001b[?25hDownloading Cerberus-1.3.5-py3-none-any.whl (30 kB)\n",
      "Downloading nbconvert-6.5.4-py3-none-any.whl (563 kB)\n",
      "\u001b[2K   \u001b[90m━━━━━━━━━━━━━━━━━━━━━━━━━━━━━━━━━━━━━━━━\u001b[0m \u001b[32m563.8/563.8 kB\u001b[0m \u001b[31m11.9 MB/s\u001b[0m eta \u001b[36m0:00:00\u001b[0ma \u001b[36m0:00:01\u001b[0m\n",
      "\u001b[?25hDownloading click-8.1.7-py3-none-any.whl (97 kB)\n",
      "\u001b[2K   \u001b[90m━━━━━━━━━━━━━━━━━━━━━━━━━━━━━━━━━━━━━━━━\u001b[0m \u001b[32m97.9/97.9 kB\u001b[0m \u001b[31m6.5 MB/s\u001b[0m eta \u001b[36m0:00:00\u001b[0m\n",
      "\u001b[?25hDownloading mistune-0.8.4-py2.py3-none-any.whl (16 kB)\n",
      "Installing collected packages: mistune, cerberus, click, nbconvert, pretty-jupyter\n",
      "  Attempting uninstall: mistune\n",
      "    Found existing installation: mistune 3.0.2\n",
      "    Uninstalling mistune-3.0.2:\n",
      "      Successfully uninstalled mistune-3.0.2\n",
      "  Attempting uninstall: nbconvert\n",
      "    Found existing installation: nbconvert 7.16.2\n",
      "    Uninstalling nbconvert-7.16.2:\n",
      "      Successfully uninstalled nbconvert-7.16.2\n",
      "Successfully installed cerberus-1.3.5 click-8.1.7 mistune-0.8.4 nbconvert-6.5.4 pretty-jupyter-2.0.7\n",
      "Note: you may need to restart the kernel to use updated packages.\n"
     ]
    }
   ],
   "source": [
    "pip install pretty-jupyter"
   ]
  },
  {
   "cell_type": "code",
   "execution_count": null,
   "id": "88649c02-8be1-41c4-842b-2ef000e2e9e1",
   "metadata": {},
   "outputs": [],
   "source": []
  }
 ],
 "metadata": {
  "kernelspec": {
   "display_name": "Python 3 (ipykernel)",
   "language": "python",
   "name": "python3"
  },
  "language_info": {
   "codemirror_mode": {
    "name": "ipython",
    "version": 3
   },
   "file_extension": ".py",
   "mimetype": "text/x-python",
   "name": "python",
   "nbconvert_exporter": "python",
   "pygments_lexer": "ipython3",
   "version": "3.12.2"
  }
 },
 "nbformat": 4,
 "nbformat_minor": 5
}
